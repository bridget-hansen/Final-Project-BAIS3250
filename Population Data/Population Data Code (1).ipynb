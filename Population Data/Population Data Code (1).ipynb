{
 "cells": [
  {
   "cell_type": "markdown",
   "id": "067fc912-e509-4ffd-b4aa-3e5fa98488fd",
   "metadata": {},
   "source": [
    "# Bridget Hansen - Getting Population Data"
   ]
  },
  {
   "cell_type": "code",
   "execution_count": 6,
   "id": "5ff0aded-d2ef-42e3-8102-96eefc2b2220",
   "metadata": {},
   "outputs": [],
   "source": [
    "import pandas as pd"
   ]
  },
  {
   "cell_type": "code",
   "execution_count": 8,
   "id": "608c6f13-854c-40de-bcc5-3ae1ba0e9c64",
   "metadata": {},
   "outputs": [],
   "source": [
    "# Your Excel filenames\n",
    "files = [\n",
    "    \"Alabama Population.xlsx\", \"Arizona Population.xlsx\", \"Arkansas Population.xlsx\",\n",
    "    \"California Population.xlsx\", \"Colorado Population.xlsx\", \"Delaware Population.xlsx\", \"Florida Population.xlsx\",\n",
    "    \"Georgia Population.xlsx\", \"Hawaii Population.xlsx\", \"Idaho Population.xlsx\",\n",
    "    \"Illinois Population.xlsx\", \"Indiana Population.xlsx\", \"Iowa Population.xlsx\",\n",
    "    \"Kansas Population.xlsx\", \"Kentucky Population.xlsx\", \"Louisiana Population.xlsx\",\n",
    "    \"Maryland Population.xlsx\", \"Michigan Population.xlsx\",\n",
    "    \"Minnesota Population.xlsx\", \"Mississippi Population.xlsx\", \"Missouri Population.xlsx\",\n",
    "    \"Montana Population.xlsx\", \"Nebraska Population.xlsx\", \"Nevada Population.xlsx\",\n",
    "    \"New Jersey Population.xlsx\", \"New Mexico Population.xlsx\",\n",
    "    \"New York Population.xlsx\", \"North Carolina Population.xlsx\", \"North Dakota Population.xlsx\",\n",
    "    \"Ohio Population.xlsx\", \"Oklahoma Population.xlsx\", \"Oregon Population.xlsx\",\n",
    "    \"Pennsylvania Population.xlsx\", \"South Carolina Population.xlsx\",\n",
    "    \"South Dakota Population.xlsx\", \"Tennessee Population.xlsx\", \"Texas Population.xlsx\",\n",
    "    \"Utah Population.xlsx\", \"Virginia Population.xlsx\",\n",
    "    \"Washington Population.xlsx\", \"West Virginia Population.xlsx\", \"Wisconsin Population.xlsx\",\n",
    "    \"Wyoming Population.xlsx\"\n",
    "]\n",
    "\n",
    "#Creating an empty list to store data\n",
    "all_states_data = []\n",
    "\n",
    "#Getting the stae name\n",
    "for file in files:\n",
    "    state_name = file.replace(\" Population.xlsx\", \"\")\n",
    "\n",
    "    # Load the Excel file and get the first sheet name\n",
    "    df = pd.read_excel(file, skiprows=3)\n",
    "\n",
    "    # Rename first column to 'county'\n",
    "    df = df.rename(columns={df.columns[0]: 'county'})\n",
    "\n",
    "    # Rename the 2016 column 'population'\n",
    "    year_col = next((col for col in df.columns if col == 2016), df.columns[1])\n",
    "    df = df.rename(columns={year_col: 'population'})\n",
    "\n",
    "    # Clean county names\n",
    "    df['county'] = df['county'].str.lstrip('.')\n",
    "    df['county'] = df['county'].str.replace(fr'\\sCounty, {state_name}$', '', regex=True)\n",
    "\n",
    "    # Dropping the first row since it is a subtotal\n",
    "    df = df.drop(index=0).reset_index(drop=True)\n",
    "\n",
    "    # Extract relevant county and population and add state name\n",
    "    clean_df = df[['county', 'population']].copy()\n",
    "    clean_df['state'] = state_name\n",
    "\n",
    "    #Appending the list with all states data\n",
    "    all_states_data.append(clean_df)\n",
    "\n",
    "# Combine all cleaned state population data into a dataframe\n",
    "population = pd.concat(all_states_data, ignore_index=True)"
   ]
  },
  {
   "cell_type": "code",
   "execution_count": 10,
   "id": "70b78318-20c5-430c-ac50-af22bf7e2836",
   "metadata": {},
   "outputs": [],
   "source": [
    "#Making the state name lowercase\n",
    "population['state'] = population['state'].str.lower()"
   ]
  },
  {
   "cell_type": "code",
   "execution_count": 12,
   "id": "7614ce99-42f3-447a-8735-a22c66252c4b",
   "metadata": {},
   "outputs": [
    {
     "data": {
      "text/html": [
       "<div>\n",
       "<style scoped>\n",
       "    .dataframe tbody tr th:only-of-type {\n",
       "        vertical-align: middle;\n",
       "    }\n",
       "\n",
       "    .dataframe tbody tr th {\n",
       "        vertical-align: top;\n",
       "    }\n",
       "\n",
       "    .dataframe thead th {\n",
       "        text-align: right;\n",
       "    }\n",
       "</style>\n",
       "<table border=\"1\" class=\"dataframe\">\n",
       "  <thead>\n",
       "    <tr style=\"text-align: right;\">\n",
       "      <th></th>\n",
       "      <th>county</th>\n",
       "      <th>population</th>\n",
       "      <th>state</th>\n",
       "    </tr>\n",
       "  </thead>\n",
       "  <tbody>\n",
       "    <tr>\n",
       "      <th>0</th>\n",
       "      <td>Autauga</td>\n",
       "      <td>55243</td>\n",
       "      <td>alabama</td>\n",
       "    </tr>\n",
       "    <tr>\n",
       "      <th>1</th>\n",
       "      <td>Baldwin</td>\n",
       "      <td>207601</td>\n",
       "      <td>alabama</td>\n",
       "    </tr>\n",
       "    <tr>\n",
       "      <th>2</th>\n",
       "      <td>Barbour</td>\n",
       "      <td>25806</td>\n",
       "      <td>alabama</td>\n",
       "    </tr>\n",
       "    <tr>\n",
       "      <th>3</th>\n",
       "      <td>Bibb</td>\n",
       "      <td>22586</td>\n",
       "      <td>alabama</td>\n",
       "    </tr>\n",
       "    <tr>\n",
       "      <th>4</th>\n",
       "      <td>Blount</td>\n",
       "      <td>57494</td>\n",
       "      <td>alabama</td>\n",
       "    </tr>\n",
       "    <tr>\n",
       "      <th>...</th>\n",
       "      <td>...</td>\n",
       "      <td>...</td>\n",
       "      <td>...</td>\n",
       "    </tr>\n",
       "    <tr>\n",
       "      <th>3040</th>\n",
       "      <td>Sweetwater</td>\n",
       "      <td>44222</td>\n",
       "      <td>wyoming</td>\n",
       "    </tr>\n",
       "    <tr>\n",
       "      <th>3041</th>\n",
       "      <td>Teton</td>\n",
       "      <td>23234</td>\n",
       "      <td>wyoming</td>\n",
       "    </tr>\n",
       "    <tr>\n",
       "      <th>3042</th>\n",
       "      <td>Uinta</td>\n",
       "      <td>20682</td>\n",
       "      <td>wyoming</td>\n",
       "    </tr>\n",
       "    <tr>\n",
       "      <th>3043</th>\n",
       "      <td>Washakie</td>\n",
       "      <td>8165</td>\n",
       "      <td>wyoming</td>\n",
       "    </tr>\n",
       "    <tr>\n",
       "      <th>3044</th>\n",
       "      <td>Weston</td>\n",
       "      <td>7220</td>\n",
       "      <td>wyoming</td>\n",
       "    </tr>\n",
       "  </tbody>\n",
       "</table>\n",
       "<p>3045 rows × 3 columns</p>\n",
       "</div>"
      ],
      "text/plain": [
       "          county  population    state\n",
       "0        Autauga       55243  alabama\n",
       "1        Baldwin      207601  alabama\n",
       "2        Barbour       25806  alabama\n",
       "3           Bibb       22586  alabama\n",
       "4         Blount       57494  alabama\n",
       "...          ...         ...      ...\n",
       "3040  Sweetwater       44222  wyoming\n",
       "3041       Teton       23234  wyoming\n",
       "3042       Uinta       20682  wyoming\n",
       "3043    Washakie        8165  wyoming\n",
       "3044      Weston        7220  wyoming\n",
       "\n",
       "[3045 rows x 3 columns]"
      ]
     },
     "execution_count": 12,
     "metadata": {},
     "output_type": "execute_result"
    }
   ],
   "source": [
    "#Displaying the dataframe\n",
    "population"
   ]
  },
  {
   "cell_type": "code",
   "execution_count": 14,
   "id": "1774cfe8-a7e2-465a-a82d-a2b1205f1b4e",
   "metadata": {},
   "outputs": [
    {
     "data": {
      "text/plain": [
       "array(['alabama', 'arizona', 'arkansas', 'california', 'colorado',\n",
       "       'delaware', 'florida', 'georgia', 'hawaii', 'idaho', 'illinois',\n",
       "       'indiana', 'iowa', 'kansas', 'kentucky', 'louisiana', 'maryland',\n",
       "       'michigan', 'minnesota', 'mississippi', 'missouri', 'montana',\n",
       "       'nebraska', 'nevada', 'new jersey', 'new mexico', 'new york',\n",
       "       'north carolina', 'north dakota', 'ohio', 'oklahoma', 'oregon',\n",
       "       'pennsylvania', 'south carolina', 'south dakota', 'tennessee',\n",
       "       'texas', 'utah', 'virginia', 'washington', 'west virginia',\n",
       "       'wisconsin', 'wyoming'], dtype=object)"
      ]
     },
     "execution_count": 14,
     "metadata": {},
     "output_type": "execute_result"
    }
   ],
   "source": [
    "#Identifying the unique states\n",
    "population['state'].unique()"
   ]
  },
  {
   "cell_type": "code",
   "execution_count": 16,
   "id": "f525cb6e-d68c-4002-b153-6c5a45147ca6",
   "metadata": {},
   "outputs": [],
   "source": [
    "#Saving the dataframe to a csv file\n",
    "population.to_csv('population data.csv')"
   ]
  },
  {
   "cell_type": "code",
   "execution_count": null,
   "id": "17986438-0c6a-474e-b778-fc28a458e78d",
   "metadata": {},
   "outputs": [],
   "source": []
  }
 ],
 "metadata": {
  "kernelspec": {
   "display_name": "Python [conda env:base] *",
   "language": "python",
   "name": "conda-base-py"
  },
  "language_info": {
   "codemirror_mode": {
    "name": "ipython",
    "version": 3
   },
   "file_extension": ".py",
   "mimetype": "text/x-python",
   "name": "python",
   "nbconvert_exporter": "python",
   "pygments_lexer": "ipython3",
   "version": "3.12.7"
  }
 },
 "nbformat": 4,
 "nbformat_minor": 5
}
