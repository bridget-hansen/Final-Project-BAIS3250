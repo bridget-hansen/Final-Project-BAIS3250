{
 "cells": [
  {
   "cell_type": "markdown",
   "id": "1824ffa1-b5f3-43ae-aea7-81672d6d51da",
   "metadata": {},
   "source": [
    "# Bridget Hansen - Web Scraping and Cleaning"
   ]
  },
  {
   "cell_type": "code",
   "execution_count": 14,
   "id": "62d31c67-5150-48e3-9764-081514872bf4",
   "metadata": {},
   "outputs": [
    {
     "name": "stdout",
     "output_type": "stream",
     "text": [
      "Requirement already satisfied: webdriver_manager in /opt/anaconda3/lib/python3.12/site-packages (4.0.2)\n",
      "Requirement already satisfied: requests in /opt/anaconda3/lib/python3.12/site-packages (from webdriver_manager) (2.32.3)\n",
      "Requirement already satisfied: python-dotenv in /opt/anaconda3/lib/python3.12/site-packages (from webdriver_manager) (0.21.0)\n",
      "Requirement already satisfied: packaging in /opt/anaconda3/lib/python3.12/site-packages (from webdriver_manager) (24.1)\n",
      "Requirement already satisfied: charset-normalizer<4,>=2 in /opt/anaconda3/lib/python3.12/site-packages (from requests->webdriver_manager) (3.3.2)\n",
      "Requirement already satisfied: idna<4,>=2.5 in /opt/anaconda3/lib/python3.12/site-packages (from requests->webdriver_manager) (3.7)\n",
      "Requirement already satisfied: urllib3<3,>=1.21.1 in /opt/anaconda3/lib/python3.12/site-packages (from requests->webdriver_manager) (2.2.3)\n",
      "Requirement already satisfied: certifi>=2017.4.17 in /opt/anaconda3/lib/python3.12/site-packages (from requests->webdriver_manager) (2025.1.31)\n",
      "Note: you may need to restart the kernel to use updated packages.\n"
     ]
    }
   ],
   "source": [
    "pip install -U webdriver_manager"
   ]
  },
  {
   "cell_type": "code",
   "execution_count": 15,
   "id": "9e35a590-fed5-4762-9097-5a035b707862",
   "metadata": {},
   "outputs": [
    {
     "name": "stdout",
     "output_type": "stream",
     "text": [
      "Requirement already satisfied: selenium in /opt/anaconda3/lib/python3.12/site-packages (4.32.0)\n",
      "Requirement already satisfied: urllib3<3,>=1.26 in /opt/anaconda3/lib/python3.12/site-packages (from urllib3[socks]<3,>=1.26->selenium) (2.2.3)\n",
      "Requirement already satisfied: trio~=0.17 in /opt/anaconda3/lib/python3.12/site-packages (from selenium) (0.29.0)\n",
      "Requirement already satisfied: trio-websocket~=0.9 in /opt/anaconda3/lib/python3.12/site-packages (from selenium) (0.12.2)\n",
      "Requirement already satisfied: certifi>=2021.10.8 in /opt/anaconda3/lib/python3.12/site-packages (from selenium) (2025.1.31)\n",
      "Requirement already satisfied: typing_extensions~=4.9 in /opt/anaconda3/lib/python3.12/site-packages (from selenium) (4.11.0)\n",
      "Requirement already satisfied: websocket-client~=1.8 in /opt/anaconda3/lib/python3.12/site-packages (from selenium) (1.8.0)\n",
      "Requirement already satisfied: attrs>=23.2.0 in /opt/anaconda3/lib/python3.12/site-packages (from trio~=0.17->selenium) (25.3.0)\n",
      "Requirement already satisfied: sortedcontainers in /opt/anaconda3/lib/python3.12/site-packages (from trio~=0.17->selenium) (2.4.0)\n",
      "Requirement already satisfied: idna in /opt/anaconda3/lib/python3.12/site-packages (from trio~=0.17->selenium) (3.7)\n",
      "Requirement already satisfied: outcome in /opt/anaconda3/lib/python3.12/site-packages (from trio~=0.17->selenium) (1.3.0.post0)\n",
      "Requirement already satisfied: sniffio>=1.3.0 in /opt/anaconda3/lib/python3.12/site-packages (from trio~=0.17->selenium) (1.3.0)\n",
      "Requirement already satisfied: wsproto>=0.14 in /opt/anaconda3/lib/python3.12/site-packages (from trio-websocket~=0.9->selenium) (1.2.0)\n",
      "Requirement already satisfied: pysocks!=1.5.7,<2.0,>=1.5.6 in /opt/anaconda3/lib/python3.12/site-packages (from urllib3[socks]<3,>=1.26->selenium) (1.7.1)\n",
      "Requirement already satisfied: h11<1,>=0.9.0 in /opt/anaconda3/lib/python3.12/site-packages (from wsproto>=0.14->trio-websocket~=0.9->selenium) (0.14.0)\n",
      "Note: you may need to restart the kernel to use updated packages.\n"
     ]
    }
   ],
   "source": [
    "pip install -U selenium"
   ]
  },
  {
   "cell_type": "code",
   "execution_count": 18,
   "id": "46e9ffc3-c6a5-4ddb-85d9-a2e58ab92529",
   "metadata": {},
   "outputs": [],
   "source": [
    "import pandas as pd\n",
    "from selenium import webdriver\n",
    "from selenium.webdriver.common.by import By # used to import different ways to access data in the XML or HTML file\n",
    "from selenium.webdriver.chrome.service import Service # no longer need to download a driver file, use service\n",
    "from selenium.webdriver.support.ui import WebDriverWait\n",
    "from selenium.webdriver.support import expected_conditions as EC\n",
    "from selenium.common.exceptions import TimeoutException\n",
    "from selenium.common.exceptions import NoSuchElementException\n",
    "\n",
    "from webdriver_manager.chrome import ChromeDriverManager # used to manage the Chrome driver to emulate a Chrome web browser\n",
    "\n",
    "import time\n",
    "import random"
   ]
  },
  {
   "cell_type": "markdown",
   "id": "dee90075-1e88-48c8-9e71-bd36c60096e3",
   "metadata": {},
   "source": [
    "## Running the Webscraping and Crawling"
   ]
  },
  {
   "cell_type": "code",
   "execution_count": 21,
   "id": "df1e0fe9-f289-4803-82a0-ec6aac02b3fa",
   "metadata": {},
   "outputs": [
    {
     "ename": "NoSuchWindowException",
     "evalue": "Message: no such window: target window already closed\nfrom unknown error: web view not found\n  (Session info: chrome=136.0.7103.93)\nStacktrace:\n0   chromedriver                        0x0000000104d083bc cxxbridge1$str$ptr + 2829900\n1   chromedriver                        0x0000000104d00684 cxxbridge1$str$ptr + 2797844\n2   chromedriver                        0x000000010483dfbc cxxbridge1$string$len + 90140\n3   chromedriver                        0x0000000104818798 chromedriver + 133016\n4   chromedriver                        0x00000001048ad048 cxxbridge1$string$len + 544936\n5   chromedriver                        0x00000001048c5b50 cxxbridge1$string$len + 646064\n6   chromedriver                        0x00000001048793f8 cxxbridge1$string$len + 332888\n7   chromedriver                        0x0000000104ccc7e0 cxxbridge1$str$ptr + 2585200\n8   chromedriver                        0x0000000104ccfab0 cxxbridge1$str$ptr + 2598208\n9   chromedriver                        0x0000000104caddb4 cxxbridge1$str$ptr + 2459716\n10  chromedriver                        0x0000000104cd0328 cxxbridge1$str$ptr + 2600376\n11  chromedriver                        0x0000000104c9f640 cxxbridge1$str$ptr + 2400464\n12  chromedriver                        0x0000000104cf028c cxxbridge1$str$ptr + 2731292\n13  chromedriver                        0x0000000104cf0418 cxxbridge1$str$ptr + 2731688\n14  chromedriver                        0x0000000104d002d0 cxxbridge1$str$ptr + 2796896\n15  libsystem_pthread.dylib             0x000000018ff382e4 _pthread_start + 136\n16  libsystem_pthread.dylib             0x000000018ff330fc thread_start + 8\n",
     "output_type": "error",
     "traceback": [
      "\u001b[0;31m---------------------------------------------------------------------------\u001b[0m",
      "\u001b[0;31mNoSuchWindowException\u001b[0m                     Traceback (most recent call last)",
      "Cell \u001b[0;32mIn[21], line 26\u001b[0m\n\u001b[1;32m     24\u001b[0m \u001b[38;5;66;03m#Scrape for all states excluding alaska and district of columbia\u001b[39;00m\n\u001b[1;32m     25\u001b[0m \u001b[38;5;28;01mfor\u001b[39;00m link \u001b[38;5;129;01min\u001b[39;00m [address[\u001b[38;5;241m0\u001b[39m], address[\u001b[38;5;241m2\u001b[39m],address[\u001b[38;5;241m3\u001b[39m],address[\u001b[38;5;241m4\u001b[39m],address[\u001b[38;5;241m5\u001b[39m],address[\u001b[38;5;241m7\u001b[39m],address[\u001b[38;5;241m9\u001b[39m],address[\u001b[38;5;241m10\u001b[39m],address[\u001b[38;5;241m11\u001b[39m],address[\u001b[38;5;241m12\u001b[39m],address[\u001b[38;5;241m13\u001b[39m],address[\u001b[38;5;241m14\u001b[39m],address[\u001b[38;5;241m15\u001b[39m],address[\u001b[38;5;241m16\u001b[39m],address[\u001b[38;5;241m17\u001b[39m],address[\u001b[38;5;241m18\u001b[39m],address[\u001b[38;5;241m20\u001b[39m],address[\u001b[38;5;241m22\u001b[39m],address[\u001b[38;5;241m23\u001b[39m],address[\u001b[38;5;241m24\u001b[39m],address[\u001b[38;5;241m25\u001b[39m],address[\u001b[38;5;241m26\u001b[39m],address[\u001b[38;5;241m27\u001b[39m],address[\u001b[38;5;241m28\u001b[39m],address[\u001b[38;5;241m30\u001b[39m],address[\u001b[38;5;241m31\u001b[39m],address[\u001b[38;5;241m32\u001b[39m],address[\u001b[38;5;241m33\u001b[39m],address[\u001b[38;5;241m34\u001b[39m],address[\u001b[38;5;241m35\u001b[39m],address[\u001b[38;5;241m36\u001b[39m],address[\u001b[38;5;241m37\u001b[39m],address[\u001b[38;5;241m38\u001b[39m],address[\u001b[38;5;241m40\u001b[39m],address[\u001b[38;5;241m41\u001b[39m],address[\u001b[38;5;241m42\u001b[39m],address[\u001b[38;5;241m43\u001b[39m],address[\u001b[38;5;241m44\u001b[39m],address[\u001b[38;5;241m46\u001b[39m],address[\u001b[38;5;241m47\u001b[39m],address[\u001b[38;5;241m48\u001b[39m],address[\u001b[38;5;241m49\u001b[39m],address[\u001b[38;5;241m50\u001b[39m]]:\n\u001b[0;32m---> 26\u001b[0m     browser\u001b[38;5;241m.\u001b[39mget(link)\n\u001b[1;32m     27\u001b[0m     time\u001b[38;5;241m.\u001b[39msleep(random\u001b[38;5;241m.\u001b[39muniform(\u001b[38;5;241m1\u001b[39m, \u001b[38;5;241m3\u001b[39m))\n\u001b[1;32m     29\u001b[0m     \u001b[38;5;66;03m#Extracting the state name from the state url\u001b[39;00m\n",
      "File \u001b[0;32m/opt/anaconda3/lib/python3.12/site-packages/selenium/webdriver/remote/webdriver.py:473\u001b[0m, in \u001b[0;36mWebDriver.get\u001b[0;34m(self, url)\u001b[0m\n\u001b[1;32m    455\u001b[0m \u001b[38;5;28;01mdef\u001b[39;00m \u001b[38;5;21mget\u001b[39m(\u001b[38;5;28mself\u001b[39m, url: \u001b[38;5;28mstr\u001b[39m) \u001b[38;5;241m-\u001b[39m\u001b[38;5;241m>\u001b[39m \u001b[38;5;28;01mNone\u001b[39;00m:\n\u001b[1;32m    456\u001b[0m \u001b[38;5;250m    \u001b[39m\u001b[38;5;124;03m\"\"\"Navigate the browser to the specified URL in the current window or\u001b[39;00m\n\u001b[1;32m    457\u001b[0m \u001b[38;5;124;03m    tab.\u001b[39;00m\n\u001b[1;32m    458\u001b[0m \n\u001b[0;32m   (...)\u001b[0m\n\u001b[1;32m    471\u001b[0m \u001b[38;5;124;03m    >>> driver.get(\"https://example.com\")\u001b[39;00m\n\u001b[1;32m    472\u001b[0m \u001b[38;5;124;03m    \"\"\"\u001b[39;00m\n\u001b[0;32m--> 473\u001b[0m     \u001b[38;5;28mself\u001b[39m\u001b[38;5;241m.\u001b[39mexecute(Command\u001b[38;5;241m.\u001b[39mGET, {\u001b[38;5;124m\"\u001b[39m\u001b[38;5;124murl\u001b[39m\u001b[38;5;124m\"\u001b[39m: url})\n",
      "File \u001b[0;32m/opt/anaconda3/lib/python3.12/site-packages/selenium/webdriver/remote/webdriver.py:448\u001b[0m, in \u001b[0;36mWebDriver.execute\u001b[0;34m(self, driver_command, params)\u001b[0m\n\u001b[1;32m    446\u001b[0m response \u001b[38;5;241m=\u001b[39m \u001b[38;5;28mself\u001b[39m\u001b[38;5;241m.\u001b[39mcommand_executor\u001b[38;5;241m.\u001b[39mexecute(driver_command, params)\n\u001b[1;32m    447\u001b[0m \u001b[38;5;28;01mif\u001b[39;00m response:\n\u001b[0;32m--> 448\u001b[0m     \u001b[38;5;28mself\u001b[39m\u001b[38;5;241m.\u001b[39merror_handler\u001b[38;5;241m.\u001b[39mcheck_response(response)\n\u001b[1;32m    449\u001b[0m     response[\u001b[38;5;124m\"\u001b[39m\u001b[38;5;124mvalue\u001b[39m\u001b[38;5;124m\"\u001b[39m] \u001b[38;5;241m=\u001b[39m \u001b[38;5;28mself\u001b[39m\u001b[38;5;241m.\u001b[39m_unwrap_value(response\u001b[38;5;241m.\u001b[39mget(\u001b[38;5;124m\"\u001b[39m\u001b[38;5;124mvalue\u001b[39m\u001b[38;5;124m\"\u001b[39m, \u001b[38;5;28;01mNone\u001b[39;00m))\n\u001b[1;32m    450\u001b[0m     \u001b[38;5;28;01mreturn\u001b[39;00m response\n",
      "File \u001b[0;32m/opt/anaconda3/lib/python3.12/site-packages/selenium/webdriver/remote/errorhandler.py:232\u001b[0m, in \u001b[0;36mErrorHandler.check_response\u001b[0;34m(self, response)\u001b[0m\n\u001b[1;32m    230\u001b[0m         alert_text \u001b[38;5;241m=\u001b[39m value[\u001b[38;5;124m\"\u001b[39m\u001b[38;5;124malert\u001b[39m\u001b[38;5;124m\"\u001b[39m]\u001b[38;5;241m.\u001b[39mget(\u001b[38;5;124m\"\u001b[39m\u001b[38;5;124mtext\u001b[39m\u001b[38;5;124m\"\u001b[39m)\n\u001b[1;32m    231\u001b[0m     \u001b[38;5;28;01mraise\u001b[39;00m exception_class(message, screen, stacktrace, alert_text)  \u001b[38;5;66;03m# type: ignore[call-arg]  # mypy is not smart enough here\u001b[39;00m\n\u001b[0;32m--> 232\u001b[0m \u001b[38;5;28;01mraise\u001b[39;00m exception_class(message, screen, stacktrace)\n",
      "\u001b[0;31mNoSuchWindowException\u001b[0m: Message: no such window: target window already closed\nfrom unknown error: web view not found\n  (Session info: chrome=136.0.7103.93)\nStacktrace:\n0   chromedriver                        0x0000000104d083bc cxxbridge1$str$ptr + 2829900\n1   chromedriver                        0x0000000104d00684 cxxbridge1$str$ptr + 2797844\n2   chromedriver                        0x000000010483dfbc cxxbridge1$string$len + 90140\n3   chromedriver                        0x0000000104818798 chromedriver + 133016\n4   chromedriver                        0x00000001048ad048 cxxbridge1$string$len + 544936\n5   chromedriver                        0x00000001048c5b50 cxxbridge1$string$len + 646064\n6   chromedriver                        0x00000001048793f8 cxxbridge1$string$len + 332888\n7   chromedriver                        0x0000000104ccc7e0 cxxbridge1$str$ptr + 2585200\n8   chromedriver                        0x0000000104ccfab0 cxxbridge1$str$ptr + 2598208\n9   chromedriver                        0x0000000104caddb4 cxxbridge1$str$ptr + 2459716\n10  chromedriver                        0x0000000104cd0328 cxxbridge1$str$ptr + 2600376\n11  chromedriver                        0x0000000104c9f640 cxxbridge1$str$ptr + 2400464\n12  chromedriver                        0x0000000104cf028c cxxbridge1$str$ptr + 2731292\n13  chromedriver                        0x0000000104cf0418 cxxbridge1$str$ptr + 2731688\n14  chromedriver                        0x0000000104d002d0 cxxbridge1$str$ptr + 2796896\n15  libsystem_pthread.dylib             0x000000018ff382e4 _pthread_start + 136\n16  libsystem_pthread.dylib             0x000000018ff330fc thread_start + 8\n"
     ]
    }
   ],
   "source": [
    "browser = webdriver.Chrome()\n",
    "browser.maximize_window()\n",
    "\n",
    "# Empty lists for data\n",
    "state_names = []\n",
    "county_names = []\n",
    "trump_votes = []\n",
    "clinton_votes = []\n",
    "\n",
    "# Visit the main URL\n",
    "url = \"https://www.nytimes.com/elections/2016/results/president\"\n",
    "browser.get(url)\n",
    "time.sleep(2)\n",
    "\n",
    "# Find all links inside the footer\n",
    "state_links = browser.find_elements(By.XPATH, '//ul[@class=\"eln-page-list\"]/li/a')\n",
    "\n",
    "# Get each state url and store in empty list address\n",
    "state_urls = [link.get_attribute('href') for link in state_links]\n",
    "address = []\n",
    "for url in state_urls:\n",
    "    address.append(url)\n",
    "\n",
    "#Scrape for all states excluding alaska and district of columbia\n",
    "for link in [address[0], address[2],address[3],address[4],address[5],address[7],address[9],address[10],address[11],address[12],address[13],address[14],address[15],address[16],address[17],address[18],address[20],address[22],address[23],address[24],address[25],address[26],address[27],address[28],address[30],address[31],address[32],address[33],address[34],address[35],address[36],address[37],address[38],address[40],address[41],address[42],address[43],address[44],address[46],address[47],address[48],address[49],address[50]]:\n",
    "    browser.get(link)\n",
    "    time.sleep(random.uniform(1, 3))\n",
    "\n",
    "    #Extracting the state name from the state url\n",
    "    state_name = link.split(\"/\")[-1]\n",
    "\n",
    "    #Finding the table with county level table\n",
    "    tables = browser.find_elements(By.XPATH, '//table[@class=\"eln-county-table\"]')\n",
    "    \n",
    "    #Clicking the show all counties button if present\n",
    "    try:\n",
    "        show_all_button = browser.find_element(By.CLASS_NAME, \"eln-toggle-counties\")\n",
    "        show_all_button.click()\n",
    "        time.sleep(1)\n",
    "    except:\n",
    "        pass\n",
    "\n",
    "    #Locating the county level table on each state link\n",
    "    for table in tables:\n",
    "        headers = table.find_elements(By.TAG_NAME, 'th')\n",
    "        header_texts = [h.text.strip().lower() for h in headers]\n",
    "        \n",
    "        #Finding only the presidental election results table\n",
    "        if 'trump' in header_texts and 'clinton' in header_texts:\n",
    "\n",
    "            #Finding each row\n",
    "            state_rows = table.find_elements(By.TAG_NAME, 'tr')[1:]\n",
    "\n",
    "            #Extracting the cell data for each row, county name, trump votes, clinton votes\n",
    "            for row in state_rows:\n",
    "                cells = row.find_elements(By.TAG_NAME, \"td\")\n",
    "                if len(cells) >= 3:\n",
    "                    county_names.append(cells[0].text)\n",
    "                    trump_votes.append(cells[1].text)\n",
    "                    clinton_votes.append(cells[2].text)\n",
    "                    state_names.append(state_name)\n",
    "\n",
    "#Saving the webscraped data to a dataframe\n",
    "election_results = pd.DataFrame({\n",
    "    \"state\": state_names,\n",
    "    \"county\": county_names,\n",
    "    \"trump votes\": trump_votes,\n",
    "    \"clinton votes\": clinton_votes\n",
    "})\n",
    "    \n",
    "    \n",
    "# Closing the WebDriver\n",
    "browser.quit()"
   ]
  },
  {
   "cell_type": "markdown",
   "id": "be12a1cc-bebd-41ed-b196-d278a133f3d0",
   "metadata": {},
   "source": [
    "## Displaying the Scraped Data Frame and Doing Data Cleaning"
   ]
  },
  {
   "cell_type": "code",
   "execution_count": 7,
   "id": "4686d52d-2b5d-4950-a131-0dcd05c574f5",
   "metadata": {},
   "outputs": [
    {
     "ename": "NameError",
     "evalue": "name 'election_results' is not defined",
     "output_type": "error",
     "traceback": [
      "\u001b[0;31m---------------------------------------------------------------------------\u001b[0m",
      "\u001b[0;31mNameError\u001b[0m                                 Traceback (most recent call last)",
      "Cell \u001b[0;32mIn[7], line 2\u001b[0m\n\u001b[1;32m      1\u001b[0m \u001b[38;5;66;03m#Displaying the data frame to verify web scraping \u001b[39;00m\n\u001b[0;32m----> 2\u001b[0m election_results\n",
      "\u001b[0;31mNameError\u001b[0m: name 'election_results' is not defined"
     ]
    }
   ],
   "source": [
    "#Displaying the data frame to verify web scraping \n",
    "election_results"
   ]
  },
  {
   "cell_type": "code",
   "execution_count": 25,
   "id": "c31a87bf-d737-4852-9270-d2a33484b94b",
   "metadata": {},
   "outputs": [
    {
     "data": {
      "text/plain": [
       "state\n",
       "texas             254\n",
       "georgia           159\n",
       "virginia          133\n",
       "kentucky          120\n",
       "missouri          115\n",
       "kansas            105\n",
       "illinois          102\n",
       "north-carolina    100\n",
       "iowa               99\n",
       "tennessee          95\n",
       "nebraska           93\n",
       "indiana            92\n",
       "ohio               88\n",
       "minnesota          87\n",
       "michigan           83\n",
       "mississippi        82\n",
       "oklahoma           77\n",
       "arkansas           75\n",
       "wisconsin          72\n",
       "pennsylvania       67\n",
       "alabama            67\n",
       "florida            67\n",
       "south-dakota       66\n",
       "louisiana          64\n",
       "colorado           64\n",
       "new-york           62\n",
       "california         58\n",
       "montana            56\n",
       "west-virginia      55\n",
       "north-dakota       53\n",
       "south-carolina     46\n",
       "idaho              44\n",
       "washington         39\n",
       "oregon             36\n",
       "new-mexico         33\n",
       "utah               29\n",
       "maryland           24\n",
       "wyoming            23\n",
       "new-jersey         21\n",
       "nevada             17\n",
       "arizona            15\n",
       "hawaii              4\n",
       "delaware            3\n",
       "Name: count, dtype: int64"
      ]
     },
     "execution_count": 25,
     "metadata": {},
     "output_type": "execute_result"
    }
   ],
   "source": [
    "#Do value counts for each 50 stats to verify number of counties\n",
    "election_results['state'].value_counts()"
   ]
  },
  {
   "cell_type": "code",
   "execution_count": 2,
   "id": "698cdea0-03e1-4a25-80c5-9cc21a78628c",
   "metadata": {},
   "outputs": [
    {
     "ename": "NameError",
     "evalue": "name 'election_results' is not defined",
     "output_type": "error",
     "traceback": [
      "\u001b[0;31m---------------------------------------------------------------------------\u001b[0m",
      "\u001b[0;31mNameError\u001b[0m                                 Traceback (most recent call last)",
      "Cell \u001b[0;32mIn[2], line 2\u001b[0m\n\u001b[1;32m      1\u001b[0m \u001b[38;5;66;03m#Checking data types of the data frame\u001b[39;00m\n\u001b[0;32m----> 2\u001b[0m election_results\u001b[38;5;241m.\u001b[39mdtypes\n",
      "\u001b[0;31mNameError\u001b[0m: name 'election_results' is not defined"
     ]
    }
   ],
   "source": [
    "#Checking data types of the data frame\n",
    "election_results.dtypes"
   ]
  },
  {
   "cell_type": "code",
   "execution_count": 15,
   "id": "c04eb6bd-0def-4cbd-8b6e-93cf338fe7c5",
   "metadata": {},
   "outputs": [],
   "source": [
    "#Changing the data type of votes from object to integar \n",
    "election_results['trump votes'] = election_results['trump votes'].str.replace(',', '').astype(int)\n",
    "election_results['clinton votes'] = election_results['clinton votes'].str.replace(',', '').astype(int)\n",
    "\n",
    "#Changning state and county data type from object to category\n",
    "election_results[\"state\"] = election_results[\"state\"].astype(\"category\")\n",
    "election_results[\"county\"] = election_results[\"county\"].astype(\"category\")"
   ]
  },
  {
   "cell_type": "code",
   "execution_count": 17,
   "id": "d05b62e5-c771-49c9-8a8c-1655013b93c1",
   "metadata": {},
   "outputs": [
    {
     "data": {
      "text/plain": [
       "state            category\n",
       "county           category\n",
       "trump votes         int64\n",
       "clinton votes       int64\n",
       "dtype: object"
      ]
     },
     "execution_count": 17,
     "metadata": {},
     "output_type": "execute_result"
    }
   ],
   "source": [
    "#Rechecking data types to verify conversion \n",
    "election_results.dtypes"
   ]
  },
  {
   "cell_type": "markdown",
   "id": "1773b286-8b5e-409b-8f21-99dca2e410a1",
   "metadata": {},
   "source": [
    "## Getting a dervived column for Total Votes and Vote Percentage"
   ]
  },
  {
   "cell_type": "code",
   "execution_count": 19,
   "id": "19261c13-fe33-4483-a0a9-f211f827f0f4",
   "metadata": {},
   "outputs": [],
   "source": [
    "#Creating a dervived column for total votes and vote percentage \n",
    "election_results[\"total votes\"] = election_results[\"trump votes\"] + election_results[\"clinton votes\"]\n",
    "election_results[\"trump vote %\"] = (election_results[\"trump votes\"] / election_results[\"total votes\"] * 100).round(2)\n",
    "election_results[\"clinton vote %\"] = (election_results[\"clinton votes\"] / election_results[\"total votes\"] * 100).round(2)"
   ]
  },
  {
   "cell_type": "code",
   "execution_count": 21,
   "id": "56c1f616-576f-4f6c-970b-dbaea437f3e1",
   "metadata": {},
   "outputs": [
    {
     "data": {
      "text/html": [
       "<div>\n",
       "<style scoped>\n",
       "    .dataframe tbody tr th:only-of-type {\n",
       "        vertical-align: middle;\n",
       "    }\n",
       "\n",
       "    .dataframe tbody tr th {\n",
       "        vertical-align: top;\n",
       "    }\n",
       "\n",
       "    .dataframe thead th {\n",
       "        text-align: right;\n",
       "    }\n",
       "</style>\n",
       "<table border=\"1\" class=\"dataframe\">\n",
       "  <thead>\n",
       "    <tr style=\"text-align: right;\">\n",
       "      <th></th>\n",
       "      <th>state</th>\n",
       "      <th>county</th>\n",
       "      <th>trump votes</th>\n",
       "      <th>clinton votes</th>\n",
       "      <th>total votes</th>\n",
       "      <th>trump vote %</th>\n",
       "      <th>clinton vote %</th>\n",
       "    </tr>\n",
       "  </thead>\n",
       "  <tbody>\n",
       "    <tr>\n",
       "      <th>0</th>\n",
       "      <td>alabama</td>\n",
       "      <td>Jefferson</td>\n",
       "      <td>134768</td>\n",
       "      <td>156873</td>\n",
       "      <td>291641</td>\n",
       "      <td>46.21</td>\n",
       "      <td>53.79</td>\n",
       "    </tr>\n",
       "    <tr>\n",
       "      <th>1</th>\n",
       "      <td>alabama</td>\n",
       "      <td>Mobile</td>\n",
       "      <td>95116</td>\n",
       "      <td>72186</td>\n",
       "      <td>167302</td>\n",
       "      <td>56.85</td>\n",
       "      <td>43.15</td>\n",
       "    </tr>\n",
       "    <tr>\n",
       "      <th>2</th>\n",
       "      <td>alabama</td>\n",
       "      <td>Madison</td>\n",
       "      <td>89520</td>\n",
       "      <td>62822</td>\n",
       "      <td>152342</td>\n",
       "      <td>58.76</td>\n",
       "      <td>41.24</td>\n",
       "    </tr>\n",
       "    <tr>\n",
       "      <th>3</th>\n",
       "      <td>alabama</td>\n",
       "      <td>Shelby</td>\n",
       "      <td>73020</td>\n",
       "      <td>22977</td>\n",
       "      <td>95997</td>\n",
       "      <td>76.06</td>\n",
       "      <td>23.94</td>\n",
       "    </tr>\n",
       "    <tr>\n",
       "      <th>4</th>\n",
       "      <td>alabama</td>\n",
       "      <td>Montgomery</td>\n",
       "      <td>34003</td>\n",
       "      <td>58916</td>\n",
       "      <td>92919</td>\n",
       "      <td>36.59</td>\n",
       "      <td>63.41</td>\n",
       "    </tr>\n",
       "    <tr>\n",
       "      <th>...</th>\n",
       "      <td>...</td>\n",
       "      <td>...</td>\n",
       "      <td>...</td>\n",
       "      <td>...</td>\n",
       "      <td>...</td>\n",
       "      <td>...</td>\n",
       "      <td>...</td>\n",
       "    </tr>\n",
       "    <tr>\n",
       "      <th>3039</th>\n",
       "      <td>wyoming</td>\n",
       "      <td>Crook</td>\n",
       "      <td>3348</td>\n",
       "      <td>273</td>\n",
       "      <td>3621</td>\n",
       "      <td>92.46</td>\n",
       "      <td>7.54</td>\n",
       "    </tr>\n",
       "    <tr>\n",
       "      <th>3040</th>\n",
       "      <td>wyoming</td>\n",
       "      <td>Washakie</td>\n",
       "      <td>2911</td>\n",
       "      <td>532</td>\n",
       "      <td>3443</td>\n",
       "      <td>84.55</td>\n",
       "      <td>15.45</td>\n",
       "    </tr>\n",
       "    <tr>\n",
       "      <th>3041</th>\n",
       "      <td>wyoming</td>\n",
       "      <td>Weston</td>\n",
       "      <td>3033</td>\n",
       "      <td>299</td>\n",
       "      <td>3332</td>\n",
       "      <td>91.03</td>\n",
       "      <td>8.97</td>\n",
       "    </tr>\n",
       "    <tr>\n",
       "      <th>3042</th>\n",
       "      <td>wyoming</td>\n",
       "      <td>Hot Springs</td>\n",
       "      <td>1939</td>\n",
       "      <td>400</td>\n",
       "      <td>2339</td>\n",
       "      <td>82.90</td>\n",
       "      <td>17.10</td>\n",
       "    </tr>\n",
       "    <tr>\n",
       "      <th>3043</th>\n",
       "      <td>wyoming</td>\n",
       "      <td>Niobrara</td>\n",
       "      <td>1116</td>\n",
       "      <td>115</td>\n",
       "      <td>1231</td>\n",
       "      <td>90.66</td>\n",
       "      <td>9.34</td>\n",
       "    </tr>\n",
       "  </tbody>\n",
       "</table>\n",
       "<p>3044 rows × 7 columns</p>\n",
       "</div>"
      ],
      "text/plain": [
       "        state       county  trump votes  clinton votes  total votes  \\\n",
       "0     alabama    Jefferson       134768         156873       291641   \n",
       "1     alabama       Mobile        95116          72186       167302   \n",
       "2     alabama      Madison        89520          62822       152342   \n",
       "3     alabama       Shelby        73020          22977        95997   \n",
       "4     alabama   Montgomery        34003          58916        92919   \n",
       "...       ...          ...          ...            ...          ...   \n",
       "3039  wyoming        Crook         3348            273         3621   \n",
       "3040  wyoming     Washakie         2911            532         3443   \n",
       "3041  wyoming       Weston         3033            299         3332   \n",
       "3042  wyoming  Hot Springs         1939            400         2339   \n",
       "3043  wyoming     Niobrara         1116            115         1231   \n",
       "\n",
       "      trump vote %  clinton vote %  \n",
       "0            46.21           53.79  \n",
       "1            56.85           43.15  \n",
       "2            58.76           41.24  \n",
       "3            76.06           23.94  \n",
       "4            36.59           63.41  \n",
       "...            ...             ...  \n",
       "3039         92.46            7.54  \n",
       "3040         84.55           15.45  \n",
       "3041         91.03            8.97  \n",
       "3042         82.90           17.10  \n",
       "3043         90.66            9.34  \n",
       "\n",
       "[3044 rows x 7 columns]"
      ]
     },
     "execution_count": 21,
     "metadata": {},
     "output_type": "execute_result"
    }
   ],
   "source": [
    "election_results"
   ]
  },
  {
   "cell_type": "code",
   "execution_count": 23,
   "id": "c8fd6345-e295-462b-9629-58fd9b41efbf",
   "metadata": {},
   "outputs": [
    {
     "data": {
      "text/plain": [
       "state             category\n",
       "county            category\n",
       "trump votes          int64\n",
       "clinton votes        int64\n",
       "total votes          int64\n",
       "trump vote %       float64\n",
       "clinton vote %     float64\n",
       "dtype: object"
      ]
     },
     "execution_count": 23,
     "metadata": {},
     "output_type": "execute_result"
    }
   ],
   "source": [
    "#Checking data type of the dervived columns\n",
    "election_results.dtypes"
   ]
  },
  {
   "cell_type": "code",
   "execution_count": 25,
   "id": "b3df331b-4881-4929-a40b-54922939132e",
   "metadata": {},
   "outputs": [
    {
     "name": "stdout",
     "output_type": "stream",
     "text": [
      "Duplicates: 0\n"
     ]
    }
   ],
   "source": [
    "#Checking for duplicates\n",
    "duplicate_rows = election_results.duplicated()\n",
    "print(f\"Duplicates: {duplicate_rows.sum()}\")"
   ]
  },
  {
   "cell_type": "markdown",
   "id": "e538af1e-8036-40bd-bdf3-bc21deb293a7",
   "metadata": {},
   "source": [
    "## Savinig the Cleaned Web Scraped Data to a CSV"
   ]
  },
  {
   "cell_type": "code",
   "execution_count": 27,
   "id": "19154406-2b8c-40ba-9463-a67b227c4708",
   "metadata": {},
   "outputs": [],
   "source": [
    "#Saving the data frame to a csv file\n",
    "election_results.to_csv(\"election_results_complete.csv\", index=False,encoding='utf-8')"
   ]
  },
  {
   "cell_type": "code",
   "execution_count": 23,
   "id": "e753e4dd-5aaf-4285-b31d-1a3baee3480a",
   "metadata": {},
   "outputs": [],
   "source": [
    "election_results  = pd.read_csv('election_results_complete.csv')"
   ]
  },
  {
   "cell_type": "code",
   "execution_count": null,
   "id": "09539da8-d698-4b74-aace-dd1bae28a175",
   "metadata": {},
   "outputs": [],
   "source": []
  }
 ],
 "metadata": {
  "kernelspec": {
   "display_name": "Python [conda env:base] *",
   "language": "python",
   "name": "conda-base-py"
  },
  "language_info": {
   "codemirror_mode": {
    "name": "ipython",
    "version": 3
   },
   "file_extension": ".py",
   "mimetype": "text/x-python",
   "name": "python",
   "nbconvert_exporter": "python",
   "pygments_lexer": "ipython3",
   "version": "3.12.7"
  }
 },
 "nbformat": 4,
 "nbformat_minor": 5
}
